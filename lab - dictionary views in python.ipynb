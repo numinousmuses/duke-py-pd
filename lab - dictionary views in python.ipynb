{
 "cells": [
  {
   "cell_type": "markdown",
   "metadata": {},
   "source": [
    "# Dictionary Views"
   ]
  },
  {
   "cell_type": "markdown",
   "metadata": {},
   "source": [
    "1. Create a dictionary named 'codes' with the keys 'left' and 'right', and the values 'red' and 'green'"
   ]
  },
  {
   "cell_type": "code",
   "execution_count": 1,
   "metadata": {},
   "outputs": [],
   "source": [
    "codes = {'left':'red','right':'green'}"
   ]
  },
  {
   "cell_type": "markdown",
   "metadata": {},
   "source": [
    "2. Set the variable codes_keys to the keys dictionary view from codes"
   ]
  },
  {
   "cell_type": "code",
   "execution_count": 2,
   "metadata": {},
   "outputs": [
    {
     "name": "stdout",
     "output_type": "stream",
     "text": [
      "dict_keys(['left', 'right'])\n"
     ]
    }
   ],
   "source": [
    "codes_keys = codes.keys()\n",
    "print(codes_keys)"
   ]
  },
  {
   "cell_type": "markdown",
   "metadata": {},
   "source": [
    "3. Set the variable codes_values to the values dictionary view from codes"
   ]
  },
  {
   "cell_type": "code",
   "execution_count": 3,
   "metadata": {},
   "outputs": [
    {
     "name": "stdout",
     "output_type": "stream",
     "text": [
      "dict_values(['red', 'green'])\n"
     ]
    }
   ],
   "source": [
    "codes_values = codes.values()\n",
    "print(codes_values)"
   ]
  },
  {
   "cell_type": "markdown",
   "metadata": {},
   "source": [
    "4. Set the variable codes_items to the items dictionary view from codes"
   ]
  },
  {
   "cell_type": "code",
   "execution_count": 4,
   "metadata": {},
   "outputs": [
    {
     "name": "stdout",
     "output_type": "stream",
     "text": [
      "dict_items([('left', 'red'), ('right', 'green')])\n"
     ]
    }
   ],
   "source": [
    "codes_items = codes.items()\n",
    "print(codes_items)"
   ]
  },
  {
   "cell_type": "markdown",
   "metadata": {},
   "source": [
    "5. Update the value of the key 'left' in codes to 'blue'"
   ]
  },
  {
   "cell_type": "code",
   "execution_count": 5,
   "metadata": {},
   "outputs": [],
   "source": [
    "codes['left']= 'blue'"
   ]
  },
  {
   "cell_type": "markdown",
   "metadata": {},
   "source": [
    "6. Print the values for codes_keys, codes_values, and codes_items"
   ]
  },
  {
   "cell_type": "code",
   "execution_count": 6,
   "metadata": {},
   "outputs": [
    {
     "name": "stdout",
     "output_type": "stream",
     "text": [
      "dict_keys(['left', 'right'])\n",
      "dict_values(['blue', 'green'])\n",
      "dict_items([('left', 'blue'), ('right', 'green')])\n"
     ]
    }
   ],
   "source": [
    "print(codes_keys)\n",
    "print(codes_values)\n",
    "print(codes_items)"
   ]
  },
  {
   "cell_type": "markdown",
   "metadata": {},
   "source": [
    "7. Notice that the dictionary views have dynamically updated with the new value. Now add a new key-value pair to codes, 'middle' : 'yellow'"
   ]
  },
  {
   "cell_type": "code",
   "execution_count": 7,
   "metadata": {},
   "outputs": [],
   "source": [
    "codes['middle'] = 'yellow'"
   ]
  },
  {
   "cell_type": "markdown",
   "metadata": {},
   "source": [
    "8. Print the values for codes_keys, codes_values, and codes_items"
   ]
  },
  {
   "cell_type": "code",
   "execution_count": 8,
   "metadata": {},
   "outputs": [
    {
     "name": "stdout",
     "output_type": "stream",
     "text": [
      "dict_keys(['left', 'right', 'middle'])\n",
      "dict_values(['blue', 'green', 'yellow'])\n",
      "dict_items([('left', 'blue'), ('right', 'green'), ('middle', 'yellow')])\n"
     ]
    }
   ],
   "source": [
    "print(codes_keys)\n",
    "print(codes_values)\n",
    "print(codes_items)"
   ]
  },
  {
   "cell_type": "markdown",
   "metadata": {},
   "source": [
    "Notice that the new key value pairs have been added to the dictionary views."
   ]
  }
 ],
 "metadata": {
  "kernelspec": {
   "display_name": "Python 3",
   "language": "python",
   "name": "python3"
  },
  "language_info": {
   "codemirror_mode": {
    "name": "ipython",
    "version": 3
   },
   "file_extension": ".py",
   "mimetype": "text/x-python",
   "name": "python",
   "nbconvert_exporter": "python",
   "pygments_lexer": "ipython3",
   "version": "3.7.6"
  }
 },
 "nbformat": 4,
 "nbformat_minor": 4
}
