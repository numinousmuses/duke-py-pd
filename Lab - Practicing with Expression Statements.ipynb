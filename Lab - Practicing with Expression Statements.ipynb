{
 "cells": [
  {
   "cell_type": "markdown",
   "metadata": {
    "id": "Yh1bqQY6VOIV"
   },
   "source": [
    "# Expression Statements\n",
    "\n",
    "## Echo a number.\n",
    " Write a number in the code cell below, then press the run button above. Notice the number is echoed after the line.\n",
    "  "
   ]
  },
  {
   "cell_type": "code",
   "execution_count": 1,
   "metadata": {
    "id": "BY7Sk1a2VHGY"
   },
   "outputs": [
    {
     "data": {
      "text/plain": [
       "2"
      ]
     },
     "execution_count": 1,
     "metadata": {},
     "output_type": "execute_result"
    }
   ],
   "source": [
    "2"
   ]
  },
  {
   "cell_type": "markdown",
   "metadata": {
    "id": "g0P6SkkMk2Lp"
   },
   "source": [
    "## Addition\n",
    " Now write a simple addition statement using the `+` sign and two numbers. Press the run button again to see the result."
   ]
  },
  {
   "cell_type": "code",
   "execution_count": 2,
   "metadata": {
    "id": "1u82puSBkt1B"
   },
   "outputs": [
    {
     "data": {
      "text/plain": [
       "10"
      ]
     },
     "execution_count": 2,
     "metadata": {},
     "output_type": "execute_result"
    }
   ],
   "source": [
    "5 + 5"
   ]
  },
  {
   "cell_type": "markdown",
   "metadata": {
    "id": "zCs6Q7tBk0mj"
   },
   "source": [
    "## Mathematical expressions\n",
    " Try writing other mathematical expressions using `-`, `+`, `*`, `/` and `**`. You can group expressions by using parenthesis. You modify the example below or write your own."
   ]
  },
  {
   "cell_type": "code",
   "execution_count": 3,
   "metadata": {
    "id": "_oRUq6SIkuCg"
   },
   "outputs": [
    {
     "data": {
      "text/plain": [
       "9"
      ]
     },
     "execution_count": 3,
     "metadata": {},
     "output_type": "execute_result"
    }
   ],
   "source": [
    "((10 + 3) % 5) ** 2"
   ]
  },
  {
   "cell_type": "markdown",
   "metadata": {
    "id": "GB_-wiK0lG0l"
   },
   "source": [
    "## Echo a string (word)\n",
    " Type the word `\"Hello\"` with the quotes and press run."
   ]
  },
  {
   "cell_type": "code",
   "execution_count": 4,
   "metadata": {
    "id": "wSb4_8KElF1O"
   },
   "outputs": [
    {
     "data": {
      "text/plain": [
       "'Hello'"
      ]
     },
     "execution_count": 4,
     "metadata": {},
     "output_type": "execute_result"
    }
   ],
   "source": [
    "'Hello'"
   ]
  },
  {
   "cell_type": "markdown",
   "metadata": {
    "id": "qDuwB-grlmoJ"
   },
   "source": [
    "Notice that it is echoed below the cell, just as the numbers above. This will be the case for any expression statement in an interactive enviroment."
   ]
  }
 ],
 "metadata": {
  "colab": {
   "name": "Expression.Statements.ipynb",
   "provenance": []
  },
  "kernelspec": {
   "display_name": "Python 3",
   "language": "python",
   "name": "python3"
  },
  "language_info": {
   "codemirror_mode": {
    "name": "ipython",
    "version": 3
   },
   "file_extension": ".py",
   "mimetype": "text/x-python",
   "name": "python",
   "nbconvert_exporter": "python",
   "pygments_lexer": "ipython3",
   "version": "3.7.6"
  }
 },
 "nbformat": 4,
 "nbformat_minor": 1
}
